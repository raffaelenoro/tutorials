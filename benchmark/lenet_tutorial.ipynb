{
  "nbformat": 4,
  "nbformat_minor": 0,
  "metadata": {
    "kernelspec": {
      "display_name": "Python 3",
      "language": "python",
      "name": "python3"
    },
    "language_info": {
      "codemirror_mode": {
        "name": "ipython",
        "version": 3
      },
      "file_extension": ".py",
      "mimetype": "text/x-python",
      "name": "python",
      "nbconvert_exporter": "python",
      "pygments_lexer": "ipython3",
      "version": "3.6.6"
    },
    "colab": {
      "name": "lenet_tutorial.ipynb",
      "version": "0.3.2",
      "provenance": [],
      "include_colab_link": true
    }
  },
  "cells": [
    {
      "cell_type": "markdown",
      "metadata": {
        "id": "view-in-github",
        "colab_type": "text"
      },
      "source": [
        "<a href=\"https://colab.research.google.com/github/raffaelenoro/tutorials/blob/raffaelenoro-dev/benchmark/lenet_tutorial.ipynb\" target=\"_parent\"><img src=\"https://colab.research.google.com/assets/colab-badge.svg\" alt=\"Open In Colab\"/></a>"
      ]
    },
    {
      "cell_type": "code",
      "metadata": {
        "id": "35vprEFxWEwj",
        "colab_type": "code",
        "colab": {}
      },
      "source": [
        "%matplotlib inline"
      ],
      "execution_count": 0,
      "outputs": []
    },
    {
      "cell_type": "markdown",
      "metadata": {
        "id": "d_ZVTlkaWEwl",
        "colab_type": "text"
      },
      "source": [
        "\n",
        "# Benchmarking of LeNet model using MNIST, CIFAR-10 and ImageNet\n",
        "\n",
        "\n",
        "We process the model and datasets as follows:\n",
        "- Set up a NN Model for LeNet\n",
        "- Show summary\n",
        "- Download train/test data from 3 datasets\n",
        "- Select a Loss function and Optimizer\n",
        "- Train\n",
        "- Test\n",
        "- Show accuracy\n",
        "\n"
      ]
    },
    {
      "cell_type": "markdown",
      "metadata": {
        "colab_type": "text",
        "id": "D8MAg3ReevbX"
      },
      "source": [
        "\n",
        "## LeNet-5\n",
        "\n",
        "It consists of:\n",
        "\n",
        "> input (#channels, WxH) ->\n",
        ">\n",
        "> conv (3 to 6 ch, 5x5 kernel) -> relu -> maxpool2d (2x2) ->\n",
        ">\n",
        "> conv (6 to 16 ch, 5x5 kernel) -> relu -> maxpool2d (2x2) ->\n",
        ">\n",
        "> linear (400 to 120) -> relu\n",
        ">\n",
        "> linear (120 to 84) -> relu\n",
        ">\n",
        "> linear (84 to 10)"
      ]
    },
    {
      "cell_type": "code",
      "metadata": {
        "id": "opy3aM_fjPVq",
        "colab_type": "code",
        "colab": {}
      },
      "source": [
        "import torch\n",
        "import torch.nn as nn\n",
        "import torch.nn.functional as F\n",
        "\n",
        "data_type = 'MNIST'\n",
        "\n",
        "if 'MNIST' == data_type:\n",
        "  # MNIST\n",
        "  channels = 1\n",
        "  subsamples = 4\n",
        "else:\n",
        "  # CIFAR-10\n",
        "  channels = 3\n",
        "  subsamples = 5\n",
        "\n",
        "class LeNet(nn.Module):\n",
        "  \n",
        "  def __init__(self):\n",
        "    super().__init__()\n",
        "    self.features = nn.Sequential(\n",
        "        nn.Conv2d(channels, 6, 5),\n",
        "        nn.ReLU(),\n",
        "        nn.MaxPool2d(2, 2),\n",
        "        nn.Conv2d(6, 16, 5),\n",
        "        nn.ReLU(),\n",
        "        nn.MaxPool2d(2, 2)\n",
        "    )\n",
        "    self.classifier = nn.Sequential(\n",
        "        nn.Linear(16 * subsamples * subsamples, 120),\n",
        "        nn.ReLU(),\n",
        "        nn.Linear(120, 84),\n",
        "        nn.ReLU(),\n",
        "        nn.Linear(84, 10)\n",
        "    )\n",
        "\n",
        "  def forward(self, x):\n",
        "    x = self.features(x)\n",
        "    x = torch.flatten(x, 1)\n",
        "    x = self.classifier(x)\n",
        "    return x\n",
        "    \n",
        "net = LeNet()"
      ],
      "execution_count": 0,
      "outputs": []
    },
    {
      "cell_type": "markdown",
      "metadata": {
        "id": "aAdO0WhAnotF",
        "colab_type": "text"
      },
      "source": [
        "### Summary of Parameters"
      ]
    },
    {
      "cell_type": "code",
      "metadata": {
        "id": "L0q4txeXni8e",
        "colab_type": "code",
        "colab": {
          "base_uri": "https://localhost:8080/",
          "height": 595
        },
        "outputId": "42e242ee-3809-4a93-ed06-8178846106ad"
      },
      "source": [
        "from torchsummary import summary\n",
        "\n",
        "if 'MNIST' == data_type:\n",
        "  # MNIST\n",
        "  input_size = (1, 28, 28)\n",
        "else:\n",
        "  # CIFAR-10\n",
        "  input_size = (3, 32, 32)\n",
        "\n",
        "summary(net, input_size)\n",
        "\n",
        "for p in net.parameters():\n",
        "  print(p.size())"
      ],
      "execution_count": 3,
      "outputs": [
        {
          "output_type": "stream",
          "text": [
            "----------------------------------------------------------------\n",
            "        Layer (type)               Output Shape         Param #\n",
            "================================================================\n",
            "            Conv2d-1            [-1, 6, 24, 24]             156\n",
            "              ReLU-2            [-1, 6, 24, 24]               0\n",
            "         MaxPool2d-3            [-1, 6, 12, 12]               0\n",
            "            Conv2d-4             [-1, 16, 8, 8]           2,416\n",
            "              ReLU-5             [-1, 16, 8, 8]               0\n",
            "         MaxPool2d-6             [-1, 16, 4, 4]               0\n",
            "            Linear-7                  [-1, 120]          30,840\n",
            "              ReLU-8                  [-1, 120]               0\n",
            "            Linear-9                   [-1, 84]          10,164\n",
            "             ReLU-10                   [-1, 84]               0\n",
            "           Linear-11                   [-1, 10]             850\n",
            "================================================================\n",
            "Total params: 44,426\n",
            "Trainable params: 44,426\n",
            "Non-trainable params: 0\n",
            "----------------------------------------------------------------\n",
            "Input size (MB): 0.00\n",
            "Forward/backward pass size (MB): 0.08\n",
            "Params size (MB): 0.17\n",
            "Estimated Total Size (MB): 0.25\n",
            "----------------------------------------------------------------\n",
            "torch.Size([6, 1, 5, 5])\n",
            "torch.Size([6])\n",
            "torch.Size([16, 6, 5, 5])\n",
            "torch.Size([16])\n",
            "torch.Size([120, 256])\n",
            "torch.Size([120])\n",
            "torch.Size([84, 120])\n",
            "torch.Size([84])\n",
            "torch.Size([10, 84])\n",
            "torch.Size([10])\n"
          ],
          "name": "stdout"
        }
      ]
    },
    {
      "cell_type": "markdown",
      "metadata": {
        "id": "Cv5HItVkvRwM",
        "colab_type": "text"
      },
      "source": [
        "### Datasets\n",
        "Transform images from range [0, 1] to range [-1, 1]"
      ]
    },
    {
      "cell_type": "code",
      "metadata": {
        "id": "EFNCS9OvvgoC",
        "colab_type": "code",
        "colab": {
          "base_uri": "https://localhost:8080/",
          "height": 411
        },
        "outputId": "15fc7b2c-41a3-4daf-bed2-a4e5d83ffda0"
      },
      "source": [
        "import torchvision\n",
        "import torchvision.transforms as transforms\n",
        "\n",
        "\n",
        "if 'MNIST' == data_type:\n",
        "  # MNIST\n",
        "  dataset = torchvision.datasets.MNIST\n",
        "  mean = (0.5,)\n",
        "  std = (0.5,)\n",
        "  classes = ('0', '1', '2', '3', '4', '5', '6', '7', '8', '9')\n",
        "else:\n",
        "  # CIFAR-10\n",
        "  dataset = torchvision.datasets.CIFAR10\n",
        "  mean = (0.5, 0.5, 0.5)\n",
        "  std = (0.5, 0.5, 0.5)\n",
        "  classes = ('plane', 'car', 'bird', 'cat',\n",
        "             'deer', 'dog', 'frog', 'horse', 'ship', 'truck')\n",
        "\n",
        "transform = transforms.Compose(\n",
        "    [transforms.ToTensor(),\n",
        "     transforms.Normalize(mean, std)])\n",
        "\n",
        "trainset = dataset(root='./data', train=True,\n",
        "                   download=True, transform=transform)\n",
        "trainloader = torch.utils.data.DataLoader(trainset, batch_size=4,\n",
        "                                          shuffle=True, num_workers=2)\n",
        "\n",
        "testset = dataset(root='./data', train=False,\n",
        "                  download=True, transform=transform)\n",
        "testloader = torch.utils.data.DataLoader(testset, batch_size=4,\n",
        "                                         shuffle=False, num_workers=2)\n",
        "\n",
        "print(trainset)\n",
        "print(testset)"
      ],
      "execution_count": 4,
      "outputs": [
        {
          "output_type": "stream",
          "text": [
            "  0%|          | 0/9912422 [00:00<?, ?it/s]"
          ],
          "name": "stderr"
        },
        {
          "output_type": "stream",
          "text": [
            "Downloading http://yann.lecun.com/exdb/mnist/train-images-idx3-ubyte.gz to ./data/MNIST/raw/train-images-idx3-ubyte.gz\n"
          ],
          "name": "stdout"
        },
        {
          "output_type": "stream",
          "text": [
            "9920512it [00:00, 28428509.07it/s]                            \n"
          ],
          "name": "stderr"
        },
        {
          "output_type": "stream",
          "text": [
            "Extracting ./data/MNIST/raw/train-images-idx3-ubyte.gz\n"
          ],
          "name": "stdout"
        },
        {
          "output_type": "stream",
          "text": [
            "32768it [00:00, 452012.61it/s]\n",
            "  2%|▏         | 40960/1648877 [00:00<00:04, 398230.65it/s]"
          ],
          "name": "stderr"
        },
        {
          "output_type": "stream",
          "text": [
            "Downloading http://yann.lecun.com/exdb/mnist/train-labels-idx1-ubyte.gz to ./data/MNIST/raw/train-labels-idx1-ubyte.gz\n",
            "Extracting ./data/MNIST/raw/train-labels-idx1-ubyte.gz\n",
            "Downloading http://yann.lecun.com/exdb/mnist/t10k-images-idx3-ubyte.gz to ./data/MNIST/raw/t10k-images-idx3-ubyte.gz\n"
          ],
          "name": "stdout"
        },
        {
          "output_type": "stream",
          "text": [
            "1654784it [00:00, 8888991.97it/s]                          \n",
            "8192it [00:00, 169849.67it/s]\n"
          ],
          "name": "stderr"
        },
        {
          "output_type": "stream",
          "text": [
            "Extracting ./data/MNIST/raw/t10k-images-idx3-ubyte.gz\n",
            "Downloading http://yann.lecun.com/exdb/mnist/t10k-labels-idx1-ubyte.gz to ./data/MNIST/raw/t10k-labels-idx1-ubyte.gz\n",
            "Extracting ./data/MNIST/raw/t10k-labels-idx1-ubyte.gz\n",
            "Processing...\n",
            "Done!\n",
            "Dataset MNIST\n",
            "    Number of datapoints: 60000\n",
            "    Root location: ./data\n",
            "    Split: Train\n",
            "Dataset MNIST\n",
            "    Number of datapoints: 10000\n",
            "    Root location: ./data\n",
            "    Split: Test\n"
          ],
          "name": "stdout"
        }
      ]
    },
    {
      "cell_type": "markdown",
      "metadata": {
        "id": "dY6fkeN3q8wi",
        "colab_type": "text"
      },
      "source": [
        "### Loss function and optimizer\n",
        "Using the Cross Entropy loss with the Stochastic Gradient Descent optimizer (learn rate is 0.001, momentum is 0.9)"
      ]
    },
    {
      "cell_type": "code",
      "metadata": {
        "id": "h6AiGDGjrIiO",
        "colab_type": "code",
        "colab": {}
      },
      "source": [
        "import torch.optim as optim\n",
        "\n",
        "criterion = nn.CrossEntropyLoss()\n",
        "optimizer = optim.SGD(net.parameters(), lr=0.001, momentum=0.9)"
      ],
      "execution_count": 0,
      "outputs": []
    },
    {
      "cell_type": "markdown",
      "metadata": {
        "id": "tv2ZHo9ytxvh",
        "colab_type": "text"
      },
      "source": [
        "### Train the Network\n",
        "Train over the dataset a few times"
      ]
    },
    {
      "cell_type": "code",
      "metadata": {
        "id": "vafeyFIbt_-E",
        "colab_type": "code",
        "colab": {
          "base_uri": "https://localhost:8080/",
          "height": 272
        },
        "outputId": "2c94255f-7213-4a71-e1d7-8c7ae3ccfa03"
      },
      "source": [
        "for epoch in range(2):  # loop over the dataset multiple times\n",
        "\n",
        "    running_loss = 0.0\n",
        "    for i, data in enumerate(trainloader, 0):\n",
        "        # get the inputs\n",
        "        inputs, labels = data\n",
        "\n",
        "        # zero the parameter gradients\n",
        "        optimizer.zero_grad()\n",
        "\n",
        "        # forward + backward + optimize\n",
        "        outputs = net(inputs)\n",
        "        loss = criterion(outputs, labels)\n",
        "        loss.backward()\n",
        "        optimizer.step()\n",
        "\n",
        "        # print statistics\n",
        "        running_loss += loss.item()\n",
        "        if i % 2000 == 1999:    # print every 2000 mini-batches\n",
        "            print('[%d, %5d] loss: %.3f' %\n",
        "                  (epoch + 1, i + 1, running_loss / 2000))\n",
        "            running_loss = 0.0\n",
        "\n",
        "print('Finished Training')"
      ],
      "execution_count": 6,
      "outputs": [
        {
          "output_type": "stream",
          "text": [
            "[1,  2000] loss: 1.246\n",
            "[1,  4000] loss: 0.204\n",
            "[1,  6000] loss: 0.147\n",
            "[1,  8000] loss: 0.115\n",
            "[1, 10000] loss: 0.091\n",
            "[1, 12000] loss: 0.089\n",
            "[1, 14000] loss: 0.088\n",
            "[2,  2000] loss: 0.063\n",
            "[2,  4000] loss: 0.068\n",
            "[2,  6000] loss: 0.063\n",
            "[2,  8000] loss: 0.063\n",
            "[2, 10000] loss: 0.069\n",
            "[2, 12000] loss: 0.059\n",
            "[2, 14000] loss: 0.059\n",
            "Finished Training\n"
          ],
          "name": "stdout"
        }
      ]
    },
    {
      "cell_type": "markdown",
      "metadata": {
        "id": "V2NIPCwg0BsS",
        "colab_type": "text"
      },
      "source": [
        "### Test the network\n",
        "Look first at one test sample."
      ]
    },
    {
      "cell_type": "code",
      "metadata": {
        "id": "KpUogh7l0L5r",
        "colab_type": "code",
        "colab": {
          "base_uri": "https://localhost:8080/",
          "height": 173
        },
        "outputId": "a873b72a-b633-42bb-fa8d-5ead8d40209d"
      },
      "source": [
        "import numpy as np\n",
        "import matplotlib.pyplot as plt\n",
        "\n",
        "dataiter = iter(testloader)\n",
        "images, labels = dataiter.next()\n",
        "\n",
        "# print images\n",
        "grid = torchvision.utils.make_grid(images)\n",
        "grid = grid / 2 + 0.5     # unnormalize\n",
        "npgrid = grid.numpy()\n",
        "plt.imshow(np.transpose(npgrid, (1, 2, 0)))\n",
        "\n",
        "print('GroundTruth: ', ' '.join('%5s' % classes[labels[j]] for j in range(4)))\n",
        "\n",
        "outputs = net(images)\n",
        "\n",
        "_, predicted = torch.max(outputs, 1)\n",
        "\n",
        "print('Predicted: ', ' '.join('%5s' % classes[predicted[j]]\n",
        "                              for j in range(4)))"
      ],
      "execution_count": 7,
      "outputs": [
        {
          "output_type": "stream",
          "text": [
            "GroundTruth:      7     2     1     0\n",
            "Predicted:      7     2     1     0\n"
          ],
          "name": "stdout"
        },
        {
          "output_type": "display_data",
          "data": {
            "image/png": "[encoded data removed]",
            "text/plain": [
              "<Figure size 432x288 with 1 Axes>"
            ]
          },
          "metadata": {
            "tags": []
          }
        }
      ]
    },
    {
      "cell_type": "markdown",
      "metadata": {
        "id": "iNlJ-Sb673je",
        "colab_type": "text"
      },
      "source": [
        "Look at how the network performs on the whole dataset."
      ]
    },
    {
      "cell_type": "code",
      "metadata": {
        "id": "MpCm7AA-7-M4",
        "colab_type": "code",
        "colab": {
          "base_uri": "https://localhost:8080/",
          "height": 34
        },
        "outputId": "c46be1d8-d235-4d13-dcd8-64ba6c11c2b3"
      },
      "source": [
        "correct = 0\n",
        "total = 0\n",
        "with torch.no_grad():\n",
        "    for data in testloader:\n",
        "        images, labels = data\n",
        "        outputs = net(images)\n",
        "        _, predicted = torch.max(outputs.data, 1)\n",
        "        total += labels.size(0)\n",
        "        correct += (predicted == labels).sum().item()\n",
        "\n",
        "print('Accuracy of the network on the 10000 test images: %d %%' % (\n",
        "    100 * correct / total))"
      ],
      "execution_count": 8,
      "outputs": [
        {
          "output_type": "stream",
          "text": [
            "Accuracy of the network on the 10000 test images: 98 %\n"
          ],
          "name": "stdout"
        }
      ]
    }
  ]
}
